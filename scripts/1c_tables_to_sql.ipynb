{
 "cells": [
  {
   "cell_type": "markdown",
   "id": "b6aff96e",
   "metadata": {},
   "source": [
    "To SQL"
   ]
  },
  {
   "cell_type": "code",
   "execution_count": 4,
   "id": "abeef87a",
   "metadata": {},
   "outputs": [
    {
     "name": "stdout",
     "output_type": "stream",
     "text": [
      "2025_07_17_01\n",
      "                                                Link  Price Location  Area  \\\n",
      "0  https://www.olx.pl/d/oferta/do-wynajecia-miesz...  1 600   Kielce  34.0   \n",
      "1  https://www.olx.plhttps://www.otodom.pl/pl/ofe...  2 200   Kielce  36.0   \n",
      "2  https://www.olx.pl/d/oferta/mieszkanie-do-wyna...  1 250   Kielce  26.4   \n",
      "3  https://www.olx.pl/d/oferta/wynajme-mieszkanie...  1 700   Kielce  45.0   \n",
      "4  https://www.olx.plhttps://www.otodom.pl/pl/ofe...  1 950   Kielce  65.0   \n",
      "\n",
      "     City       Scrapping_Date Type_of_Agreement Dwelling_Type  Elevator  \\\n",
      "0  kielce  2025-07-17 01:55:30           wynajem         block         1   \n",
      "1  kielce  2025-07-17 01:55:30           wynajem     apartment         0   \n",
      "2  kielce  2025-07-17 01:55:30           wynajem         block         1   \n",
      "3  kielce  2025-07-17 01:55:30           wynajem         block         0   \n",
      "4  kielce  2025-07-17 01:55:30           wynajem         block         0   \n",
      "\n",
      "   Furnishing  Level        Parking_Space   Pets  Rooms_Number      Seller  \\\n",
      "0        True      1                   no  False             1  developers   \n",
      "1        True      0                   no  False             2  developers   \n",
      "2        True     10  belonging_on_street  False             1  developers   \n",
      "3        True      3  belonging_on_street  False             3     private   \n",
      "4        True      0                   no  False             3  developers   \n",
      "\n",
      "   Refreshed        Date  Negotiations  \n",
      "0       True  2025-07-15         False  \n",
      "1      False  2025-07-15         False  \n",
      "2       True  2025-07-15         False  \n",
      "3      False  2025-07-14         False  \n",
      "4      False  2025-07-15         False  \n"
     ]
    }
   ],
   "source": [
    "import sqlite3\n",
    "import pandas as pd\n",
    "import datetime\n",
    "import os\n",
    "\n",
    "\n",
    "with open(\"./../data/data_scrapped/interim/flag_date_scrapping.txt\", \"r\") as f:\n",
    "    lines = f.readlines()\n",
    "    dates = [i for i,item in enumerate(lines) if \"last scrapping date\" in item.lower()]\n",
    "    new_data_line=dates[1]+1\n",
    "    new_data=lines[new_data_line]\n",
    "    new_data=new_data[:-1]\n",
    "    print(new_data) ############## Print the date for verification\n",
    "\n",
    "\n",
    "\n",
    "link = \"./../data/data_scrapped/reads/\"\n",
    "file_name = new_data+\"_cleaned.csv\"  # Construct the file name using the date\n",
    "\n",
    "data = pd.read_csv(link + file_name)\n",
    "print(data.head())  # Print the first few rows of the DataFrame for verification\n",
    "conn = sqlite3.connect(\"./../data/databases/main.db\")\n",
    "cursor = conn.cursor()\n",
    "data.to_sql(\"apartment_data\", conn, if_exists=\"append\", index=False)\n",
    "conn.close()"
   ]
  }
 ],
 "metadata": {
  "kernelspec": {
   "display_name": "scrap",
   "language": "python",
   "name": "python3"
  },
  "language_info": {
   "codemirror_mode": {
    "name": "ipython",
    "version": 3
   },
   "file_extension": ".py",
   "mimetype": "text/x-python",
   "name": "python",
   "nbconvert_exporter": "python",
   "pygments_lexer": "ipython3",
   "version": "3.11.13"
  }
 },
 "nbformat": 4,
 "nbformat_minor": 5
}
