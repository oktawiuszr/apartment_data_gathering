{
 "cells": [
  {
   "cell_type": "markdown",
   "id": "8da19fc4",
   "metadata": {},
   "source": [
    "Backup copy"
   ]
  },
  {
   "cell_type": "code",
   "execution_count": 3,
   "id": "477dcc7f",
   "metadata": {},
   "outputs": [
    {
     "data": {
      "text/plain": [
       "'./../data/backup/2025-07-17'"
      ]
     },
     "execution_count": 3,
     "metadata": {},
     "output_type": "execute_result"
    }
   ],
   "source": [
    "import os\n",
    "import shutil\n",
    "from datetime import datetime\n",
    "\n",
    "today = datetime.now().strftime(\"%Y-%m-%d\")\n",
    "os.makedirs(\"./../data/backup/\" + today, exist_ok=True)\n",
    "shutil.copytree(\"./../data/data_scrapped\", \"./../data/backup/\" + today, dirs_exist_ok=True)\n",
    "\n",
    "\n"
   ]
  },
  {
   "cell_type": "markdown",
   "id": "eb954069",
   "metadata": {},
   "source": [
    "Cleaning"
   ]
  },
  {
   "cell_type": "code",
   "execution_count": 4,
   "id": "1c4ff7cb",
   "metadata": {},
   "outputs": [],
   "source": [
    "import os\n",
    "import shutil\n",
    "\n",
    "def clean_folder_except(folder_path, exceptions):\n",
    "\n",
    "    for filename in os.listdir(folder_path):\n",
    "        # Check if the file is not in the exceptions list\n",
    "        if filename not in exceptions:\n",
    "            file_path = os.path.join(folder_path, filename)\n",
    "            if os.path.isfile(file_path):\n",
    "                os.remove(file_path)\n",
    "            elif os.path.isdir(file_path):\n",
    "                shutil.rmtree(file_path)\n",
    "\n",
    "clean_folder_except(\"./../data/data_scrapped/interim/categories/combined/\",[\"x\"])\n",
    "clean_folder_except(\"./../data/data_scrapped/interim/categories/\",[\"combined\"])\n",
    "clean_folder_except(\"./../data/data_scrapped/interim/\",[\"flag_date_scrapping.txt\",\"categories\"])\n",
    "clean_folder_except(\"./../data/data_scrapped/reads\",[\"flag_date_scrapping.txt\",\"categories\"])"
   ]
  },
  {
   "cell_type": "markdown",
   "id": "ad4f8b89",
   "metadata": {},
   "source": [
    "flag file cleaning"
   ]
  },
  {
   "cell_type": "code",
   "execution_count": null,
   "id": "63c30108",
   "metadata": {},
   "outputs": [
    {
     "name": "stdout",
     "output_type": "stream",
     "text": [
      "Not enough dates found in the file.\n"
     ]
    },
    {
     "ename": "IndexError",
     "evalue": "list index out of range",
     "output_type": "error",
     "traceback": [
      "\u001b[31m---------------------------------------------------------------------------\u001b[39m",
      "\u001b[31mIndexError\u001b[39m                                Traceback (most recent call last)",
      "\u001b[36mCell\u001b[39m\u001b[36m \u001b[39m\u001b[32mIn[5]\u001b[39m\u001b[32m, line 8\u001b[39m\n\u001b[32m      6\u001b[39m     \u001b[38;5;28mprint\u001b[39m(\u001b[33m\"\u001b[39m\u001b[33mNot enough dates found in the file.\u001b[39m\u001b[33m\"\u001b[39m)\n\u001b[32m      7\u001b[39m     exit(\u001b[32m1\u001b[39m) \n\u001b[32m----> \u001b[39m\u001b[32m8\u001b[39m new_data_line=\u001b[43mdates\u001b[49m\u001b[43m[\u001b[49m\u001b[32;43m1\u001b[39;49m\u001b[43m]\u001b[49m+\u001b[32m1\u001b[39m\n\u001b[32m      9\u001b[39m new_data=lines[new_data_line]\n\u001b[32m     10\u001b[39m new_data=new_data[:-\u001b[32m1\u001b[39m]\n",
      "\u001b[31mIndexError\u001b[39m: list index out of range"
     ]
    }
   ],
   "source": [
    "with open(\"./../data/data_scrapped/interim/flag_date_scrapping.txt\", \"r\") as f:\n",
    "    lines = f.readlines()\n",
    "    dates = [i for i,item in enumerate(lines) if \"last scrapping date\" in item.lower()]\n",
    "\n",
    "    if len(dates) < 2:\n",
    "        print(\"Not enough dates found in the file.\")\n",
    "        exit(1) \n",
    "    new_data_line=dates[1]+1\n",
    "    new_data=lines[new_data_line]\n",
    "    new_data=new_data[:-2]\n",
    "    print(\"Remove after line:\",lines[new_data_line])  # Print the date for verification\n",
    "\n",
    "with open(\"./../data/data_scrapped/interim/flag_date_scrapping.txt\", \"w\") as f:\n",
    "    f.writelines(lines[new_data_line:])\n"
   ]
  }
 ],
 "metadata": {
  "kernelspec": {
   "display_name": "scrap",
   "language": "python",
   "name": "python3"
  },
  "language_info": {
   "codemirror_mode": {
    "name": "ipython",
    "version": 3
   },
   "file_extension": ".py",
   "mimetype": "text/x-python",
   "name": "python",
   "nbconvert_exporter": "python",
   "pygments_lexer": "ipython3",
   "version": "3.11.13"
  }
 },
 "nbformat": 4,
 "nbformat_minor": 5
}
