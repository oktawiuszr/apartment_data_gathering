{
 "cells": [
  {
   "cell_type": "code",
   "execution_count": 4,
   "id": "0e66492e",
   "metadata": {},
   "outputs": [
    {
     "name": "stdout",
     "output_type": "stream",
     "text": [
      "             name\n",
      "0  apartment_data\n",
      "(4637, 18)\n"
     ]
    }
   ],
   "source": [
    "import pandas as pd\n",
    "import sqlite3\n",
    "import datetime\n",
    "# Define the date for the file name\n",
    "\n",
    "conn = sqlite3.connect(\"./../data/databases/main.db\")\n",
    "tables = pd.read_sql_query(\"SELECT name FROM sqlite_master WHERE type='table';\", conn)\n",
    "print(tables)\n",
    "data = pd.read_sql_query(\"SELECT * FROM APARTMENT_DATA\", conn)\n",
    "print(data.shape)  # Print the shape of the DataFrame for verification\n",
    "\n",
    "\n",
    "\n",
    "\n",
    "\n",
    "\n",
    "\n",
    "\n",
    "data.to_csv(\"./../data/all_data.csv\", index=False)\n",
    "conn.close()"
   ]
  }
 ],
 "metadata": {
  "kernelspec": {
   "display_name": "scrap",
   "language": "python",
   "name": "python3"
  },
  "language_info": {
   "codemirror_mode": {
    "name": "ipython",
    "version": 3
   },
   "file_extension": ".py",
   "mimetype": "text/x-python",
   "name": "python",
   "nbconvert_exporter": "python",
   "pygments_lexer": "ipython3",
   "version": "3.11.13"
  }
 },
 "nbformat": 4,
 "nbformat_minor": 5
}
